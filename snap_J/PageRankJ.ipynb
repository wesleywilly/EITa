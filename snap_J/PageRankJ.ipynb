{
 "cells": [
  {
   "cell_type": "code",
   "execution_count": 2,
   "metadata": {
    "collapsed": true
   },
   "outputs": [],
   "source": [
    "import pandas as pd\n",
    "import numpy as np\n",
    "import csv\n",
    "import time"
   ]
  },
  {
   "cell_type": "code",
   "execution_count": 3,
   "metadata": {
    "collapsed": true
   },
   "outputs": [],
   "source": [
    "#Metodo que transforma texto em lista. Serve somente para o formato da última coluna do dataset\n",
    "def strToList(array):\n",
    "    array = array.replace(\"'\",\"\")\n",
    "    array = array.replace(\"[\",\"\")\n",
    "    array = array.replace(\"]\",\"\")\n",
    "    array = array.replace(\" \",\"\")\n",
    "    array = array.split(\",\")\n",
    "    return array[:]"
   ]
  },
  {
   "cell_type": "code",
   "execution_count": 4,
   "metadata": {
    "collapsed": true
   },
   "outputs": [],
   "source": [
    "#Dados de entrada e corrigidos\n",
    "original = \"data.csv\"\n",
    "adjusted = \"adjusted_data.csv\""
   ]
  },
  {
   "cell_type": "code",
   "execution_count": 5,
   "metadata": {
    "collapsed": true
   },
   "outputs": [],
   "source": [
    "#Carregando dados\n",
    "rawData = []\n",
    "with open(original, 'r') as f:\n",
    "    for line in f:\n",
    "        rawData.append(line)\n",
    "#Corrigindo erro de imporatção\n",
    "s = \"\\'\"\n",
    "d = \"\\\"\"\n",
    "for i in range(0,len(rawData)):\n",
    "    rawData[i] = rawData[i].replace(d,s)\n",
    "    rawData[i] = rawData[i].replace(\"[\",'\\\"[')\n",
    "    rawData[i] = rawData[i].replace(\"]\",']\\\"')\n",
    "\n",
    "    \n",
    "with open(adjusted, 'w') as f:\n",
    "    for row in rawData:\n",
    "        f.write(row)\n",
    "\n",
    "data = pd.read_csv(adjusted)"
   ]
  },
  {
   "cell_type": "code",
   "execution_count": 6,
   "metadata": {
    "collapsed": false,
    "scrolled": true
   },
   "outputs": [
    {
     "data": {
      "text/html": [
       "<div>\n",
       "<style>\n",
       "    .dataframe thead tr:only-child th {\n",
       "        text-align: right;\n",
       "    }\n",
       "\n",
       "    .dataframe thead th {\n",
       "        text-align: left;\n",
       "    }\n",
       "\n",
       "    .dataframe tbody tr th {\n",
       "        vertical-align: top;\n",
       "    }\n",
       "</style>\n",
       "<table border=\"1\" class=\"dataframe\">\n",
       "  <thead>\n",
       "    <tr style=\"text-align: right;\">\n",
       "      <th></th>\n",
       "      <th>id</th>\n",
       "      <th>screenName</th>\n",
       "      <th>tags</th>\n",
       "      <th>avatar</th>\n",
       "      <th>followersCount</th>\n",
       "      <th>friendsCount</th>\n",
       "      <th>lang</th>\n",
       "      <th>lastSeen</th>\n",
       "      <th>tweetId</th>\n",
       "      <th>friends</th>\n",
       "    </tr>\n",
       "  </thead>\n",
       "  <tbody>\n",
       "    <tr>\n",
       "      <th>0</th>\n",
       "      <td>'1969527638'</td>\n",
       "      <td>'LlngoMakeEmCum_'</td>\n",
       "      <td>[ '#nationaldogday' ]</td>\n",
       "      <td>'http://pbs.twimg.com/profile_images/534286217...</td>\n",
       "      <td>319</td>\n",
       "      <td>112</td>\n",
       "      <td>'en'</td>\n",
       "      <td>1472271687519</td>\n",
       "      <td>'769310701580083200'</td>\n",
       "      <td>[ '1969574754', '1969295556', '1969284056', '1...</td>\n",
       "    </tr>\n",
       "    <tr>\n",
       "      <th>1</th>\n",
       "      <td>'51878493'</td>\n",
       "      <td>'_notmichelle'</td>\n",
       "      <td>[ '#nationaldogday' ]</td>\n",
       "      <td>'http://pbs.twimg.com/profile_images/761977602...</td>\n",
       "      <td>275</td>\n",
       "      <td>115</td>\n",
       "      <td>'en'</td>\n",
       "      <td>1472270622663</td>\n",
       "      <td>'769309490038439936'</td>\n",
       "      <td>[ '60789485', '2420931980', '2899776756', '127...</td>\n",
       "    </tr>\n",
       "    <tr>\n",
       "      <th>2</th>\n",
       "      <td>'1393409100'</td>\n",
       "      <td>'jesseayye'</td>\n",
       "      <td>[ '#narcos' ]</td>\n",
       "      <td>'http://pbs.twimg.com/profile_images/713282938...</td>\n",
       "      <td>120</td>\n",
       "      <td>107</td>\n",
       "      <td>'en'</td>\n",
       "      <td>1472804144409</td>\n",
       "      <td>'771622623583186944'</td>\n",
       "      <td>[ '86868062', '19697415', '2998836604', '45629...</td>\n",
       "    </tr>\n",
       "    <tr>\n",
       "      <th>3</th>\n",
       "      <td>'232891415'</td>\n",
       "      <td>'MrBrianLloyd'</td>\n",
       "      <td>[ '#gloryoutnow' ]</td>\n",
       "      <td>'http://pbs.twimg.com/profile_images/133440668...</td>\n",
       "      <td>492</td>\n",
       "      <td>325</td>\n",
       "      <td>'en'</td>\n",
       "      <td>1472269186776</td>\n",
       "      <td>'769308131696467969'</td>\n",
       "      <td>[ '361335082', '1405248468', '24626354', '7256...</td>\n",
       "    </tr>\n",
       "    <tr>\n",
       "      <th>4</th>\n",
       "      <td>'710130422907207680'</td>\n",
       "      <td>'sarahdorat_16'</td>\n",
       "      <td>[ '#nationaldogday' ]</td>\n",
       "      <td>'http://pbs.twimg.com/profile_images/767180520...</td>\n",
       "      <td>128</td>\n",
       "      <td>218</td>\n",
       "      <td>'en'</td>\n",
       "      <td>1472271397356</td>\n",
       "      <td>'769309769144283137'</td>\n",
       "      <td>[ '1571896093', '768938323612008448', '2548665...</td>\n",
       "    </tr>\n",
       "  </tbody>\n",
       "</table>\n",
       "</div>"
      ],
      "text/plain": [
       "                     id         screenName                   tags  \\\n",
       "0          '1969527638'  'LlngoMakeEmCum_'  [ '#nationaldogday' ]   \n",
       "1            '51878493'     '_notmichelle'  [ '#nationaldogday' ]   \n",
       "2          '1393409100'        'jesseayye'          [ '#narcos' ]   \n",
       "3           '232891415'     'MrBrianLloyd'     [ '#gloryoutnow' ]   \n",
       "4  '710130422907207680'    'sarahdorat_16'  [ '#nationaldogday' ]   \n",
       "\n",
       "                                              avatar  followersCount  \\\n",
       "0  'http://pbs.twimg.com/profile_images/534286217...             319   \n",
       "1  'http://pbs.twimg.com/profile_images/761977602...             275   \n",
       "2  'http://pbs.twimg.com/profile_images/713282938...             120   \n",
       "3  'http://pbs.twimg.com/profile_images/133440668...             492   \n",
       "4  'http://pbs.twimg.com/profile_images/767180520...             128   \n",
       "\n",
       "   friendsCount  lang       lastSeen               tweetId  \\\n",
       "0           112  'en'  1472271687519  '769310701580083200'   \n",
       "1           115  'en'  1472270622663  '769309490038439936'   \n",
       "2           107  'en'  1472804144409  '771622623583186944'   \n",
       "3           325  'en'  1472269186776  '769308131696467969'   \n",
       "4           218  'en'  1472271397356  '769309769144283137'   \n",
       "\n",
       "                                             friends  \n",
       "0  [ '1969574754', '1969295556', '1969284056', '1...  \n",
       "1  [ '60789485', '2420931980', '2899776756', '127...  \n",
       "2  [ '86868062', '19697415', '2998836604', '45629...  \n",
       "3  [ '361335082', '1405248468', '24626354', '7256...  \n",
       "4  [ '1571896093', '768938323612008448', '2548665...  "
      ]
     },
     "execution_count": 6,
     "metadata": {},
     "output_type": "execute_result"
    }
   ],
   "source": [
    "data.head()"
   ]
  },
  {
   "cell_type": "code",
   "execution_count": 7,
   "metadata": {
    "collapsed": true
   },
   "outputs": [],
   "source": [
    "ids = {}\n",
    "\n",
    "for i in data.index:\n",
    "    person_id = data.iloc[i,0].replace(s,\"\")\n",
    "    ids[person_id] = i"
   ]
  },
  {
   "cell_type": "code",
   "execution_count": 9,
   "metadata": {
    "collapsed": true
   },
   "outputs": [],
   "source": [
    "m = np.zeros((len(data),len(data)))"
   ]
  },
  {
   "cell_type": "code",
   "execution_count": 11,
   "metadata": {
    "collapsed": false
   },
   "outputs": [],
   "source": [
    "#teste com a primeira linha\n",
    "\n",
    "#procurar o id no dataset\n",
    "for i in data.index:\n",
    "    friends = strToList(data.iloc[i,-1])\n",
    "    for friend in friends:\n",
    "        #print(friend, \"is friends with\", ids[friend], \"Row:\", i)\n",
    "        try:\n",
    "            m[i,ids[friend]] = 1\n",
    "        except:\n",
    "            pass"
   ]
  },
  {
   "cell_type": "code",
   "execution_count": null,
   "metadata": {
    "collapsed": false
   },
   "outputs": [],
   "source": [
    "count1 = 0\n",
    "count0 = 0\n",
    "for i in range(m.shape[0]):\n",
    "    for j in range(m.shape[1]):\n",
    "        if m[i,j] == 1:\n",
    "            count1 += 1\n",
    "        elif m[i,j] == 0:\n",
    "            count0 += 1\n",
    "print('zeros:', count0, 'uns:', count1)            "
   ]
  }
 ],
 "metadata": {
  "kernelspec": {
   "display_name": "Python 3",
   "language": "python",
   "name": "python3"
  },
  "language_info": {
   "codemirror_mode": {
    "name": "ipython",
    "version": 3
   },
   "file_extension": ".py",
   "mimetype": "text/x-python",
   "name": "python",
   "nbconvert_exporter": "python",
   "pygments_lexer": "ipython3",
   "version": "3.5.4rc1"
  }
 },
 "nbformat": 4,
 "nbformat_minor": 2
}
