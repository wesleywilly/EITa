{
 "cells": [
  {
   "cell_type": "code",
   "execution_count": 1,
   "metadata": {},
   "outputs": [],
   "source": [
    "import snap\n",
    "import pandas as pd\n",
    "import numpy as np\n",
    "import networkx as nx #sudo apt install python-networkx\n",
    "import csv\n",
    "import time\n",
    "import pagerank\n",
    "import matplotlib.pyplot as plt"
   ]
  },
  {
   "cell_type": "code",
   "execution_count": 2,
   "metadata": {},
   "outputs": [],
   "source": [
    "#Metodo que transforma texto em lista. \n",
    "#   Serve somente para o formato da última coluna do dataset\n",
    "def strToList(array):\n",
    "    array = array.replace(\"'\",\"\")\n",
    "    array = array.replace(\"[\",\"\")\n",
    "    array = array.replace(\"]\",\"\")\n",
    "    array = array.replace(\" \",\"\")\n",
    "    array = array.split(\",\")\n",
    "    return array[:]"
   ]
  },
  {
   "cell_type": "code",
   "execution_count": 3,
   "metadata": {},
   "outputs": [],
   "source": [
    "#Dados de entrada e corrigidos\n",
    "original = \"data.csv\"\n",
    "adjusted = \"adjusted_data.csv\""
   ]
  },
  {
   "cell_type": "code",
   "execution_count": 4,
   "metadata": {},
   "outputs": [],
   "source": [
    "#Carregando dados\n",
    "rawData = []\n",
    "with open(original, 'r') as f:\n",
    "    for line in f:\n",
    "        rawData.append(line)\n",
    "#Corrigindo erro de imporatção\n",
    "s = \"\\'\"\n",
    "d = \"\\\"\"\n",
    "for i in range(0,len(rawData)):\n",
    "    rawData[i] = rawData[i].replace(d,s)\n",
    "    rawData[i] = rawData[i].replace(\"[\",'\\\"[')\n",
    "    rawData[i] = rawData[i].replace(\"]\",']\\\"')\n",
    "\n",
    "    \n",
    "with open(adjusted, 'w') as f:\n",
    "    for row in rawData:\n",
    "        f.write(row)\n",
    "\n",
    "data = pd.read_csv(adjusted)"
   ]
  },
  {
   "cell_type": "code",
   "execution_count": 5,
   "metadata": {},
   "outputs": [],
   "source": [
    "#Gerando um dicionário com os ids\n",
    "ids = {}\n",
    "\n",
    "for i in data.index:\n",
    "    person_id = data.iloc[i,0].replace(s,\"\")\n",
    "    ids[person_id] = i"
   ]
  },
  {
   "cell_type": "markdown",
   "metadata": {},
   "source": [
    "## Gerando grafo com snap"
   ]
  },
  {
   "cell_type": "code",
   "execution_count": 6,
   "metadata": {},
   "outputs": [],
   "source": [
    "#Gerando grafo do snap\n",
    "G = snap.TNGraph.New()"
   ]
  },
  {
   "cell_type": "code",
   "execution_count": 7,
   "metadata": {
    "scrolled": false
   },
   "outputs": [
    {
     "name": "stdout",
     "output_type": "stream",
     "text": [
      "G: Nodes 40000, Edges 95496\n"
     ]
    }
   ],
   "source": [
    "for i in data.index:\n",
    "    #Gerando os nós\n",
    "    node = ids[str(data.iloc[i,0]).replace(s,\"\")]\n",
    "    G.AddNode(node)\n",
    "    \n",
    "    #Gerando as arestas\n",
    "    friends = strToList(data.iloc[i,-1])\n",
    "    for friend in friends:\n",
    "        try:\n",
    "            G.AddEdge(i,ids[friend])\n",
    "        except:\n",
    "            pass\n",
    "        \n",
    "print \"G: Nodes %d, Edges %d\" % (G.GetNodes(), G.GetEdges())"
   ]
  },
  {
   "cell_type": "code",
   "execution_count": 8,
   "metadata": {
    "scrolled": true
   },
   "outputs": [
    {
     "name": "stdout",
     "output_type": "stream",
     "text": [
      "G: Nodes 40000, Edges 95496\n"
     ]
    }
   ],
   "source": [
    "print \"G: Nodes %d, Edges %d\" % (G.GetNodes(), G.GetEdges())"
   ]
  },
  {
   "cell_type": "markdown",
   "metadata": {},
   "source": [
    "## Análise estrutural"
   ]
  },
  {
   "cell_type": "code",
   "execution_count": 9,
   "metadata": {},
   "outputs": [],
   "source": [
    "# vector of pairs of integers (size, count)\n",
    "CntV = snap.TIntPrV()"
   ]
  },
  {
   "cell_type": "code",
   "execution_count": 10,
   "metadata": {},
   "outputs": [],
   "source": [
    "# get distribution of connected components (component size, count)\n",
    "snap.GetWccSzCnt(G, CntV)"
   ]
  },
  {
   "cell_type": "code",
   "execution_count": 11,
   "metadata": {},
   "outputs": [],
   "source": [
    "# get degree distribution pairs (degree, count)\n",
    "snap.GetOutDegCnt(G, CntV)"
   ]
  },
  {
   "cell_type": "code",
   "execution_count": 14,
   "metadata": {},
   "outputs": [
    {
     "data": {
      "text/plain": [
       "14"
      ]
     },
     "execution_count": 14,
     "metadata": {},
     "output_type": "execute_result"
    }
   ],
   "source": [
    "# get diameter of G\n",
    "snap.GetBfsFullDiam(G, 100)"
   ]
  },
  {
   "cell_type": "code",
   "execution_count": 17,
   "metadata": {},
   "outputs": [
    {
     "data": {
      "text/plain": [
       "70177"
      ]
     },
     "execution_count": 17,
     "metadata": {},
     "output_type": "execute_result"
    }
   ],
   "source": [
    "# count the number of triads in G,\n",
    "#   get the clustering coefficient of G\n",
    "snap.GetTriads(G)"
   ]
  },
  {
   "cell_type": "code",
   "execution_count": 16,
   "metadata": {},
   "outputs": [
    {
     "data": {
      "text/plain": [
       "0.08585181154367456"
      ]
     },
     "execution_count": 16,
     "metadata": {},
     "output_type": "execute_result"
    }
   ],
   "source": [
    "snap.GetClustCf(G)"
   ]
  },
  {
   "cell_type": "code",
   "execution_count": 21,
   "metadata": {},
   "outputs": [],
   "source": [
    "snap.PrintInfo(G, \"Python type PUNGraph\", \"info-pungraph.txt\")"
   ]
  }
 ],
 "metadata": {
  "kernelspec": {
   "display_name": "Python 2",
   "language": "python",
   "name": "python2"
  },
  "language_info": {
   "codemirror_mode": {
    "name": "ipython",
    "version": 2
   },
   "file_extension": ".py",
   "mimetype": "text/x-python",
   "name": "python",
   "nbconvert_exporter": "python",
   "pygments_lexer": "ipython2",
   "version": "2.7.12"
  }
 },
 "nbformat": 4,
 "nbformat_minor": 2
}
